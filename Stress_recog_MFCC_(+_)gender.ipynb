{
  "nbformat": 4,
  "nbformat_minor": 0,
  "metadata": {
    "colab": {
      "name": "Stress_recog_MFCC_(+/-)gender.ipynb",
      "version": "0.3.2",
      "provenance": [],
      "collapsed_sections": []
    },
    "kernelspec": {
      "name": "python3",
      "display_name": "Python 3"
    },
    "accelerator": "GPU"
  },
  "cells": [
    {
      "cell_type": "code",
      "metadata": {
        "id": "qnCglQQKZD5H",
        "colab_type": "code",
        "outputId": "151164ff-92b9-41f5-9247-09d900b4ac58",
        "colab": {
          "base_uri": "https://localhost:8080/",
          "height": 168
        }
      },
      "source": [
        "#!pip install librosa\n",
        "import librosa\n",
        "import librosa.display\n",
        "import numpy as np\n",
        "import matplotlib.pyplot as plt\n",
        "import tensorflow as tf\n",
        "from matplotlib.pyplot import specgram\n",
        "import keras\n",
        "\n",
        "#from tensorflow.keras.callbacks import ModelCheckpoint, TensorBoard\n",
        "#from tensorflow.keras.models import Sequential\n",
        "#from tensorflow.keras.layers import LSTM, Activation, Dense,  Embedding\n",
        "\n",
        "from keras.preprocessing import sequence\n",
        "from keras.models import Sequential\n",
        "from keras.layers import Dense, Embedding, Activation\n",
        "from keras.layers import LSTM\n",
        "from keras.preprocessing.text import Tokenizer\n",
        "from keras.preprocessing.sequence import pad_sequences\n",
        "from keras.utils import to_categorical\n",
        "from keras.layers import Input, Flatten, Dropout#, Activation\n",
        "from keras.layers import Conv1D, MaxPooling1D, AveragePooling1D\n",
        "from keras.models import Model\n",
        "from keras.callbacks import ModelCheckpoint\n",
        "from sklearn.metrics import confusion_matrix\n",
        "\n",
        "from keras import regularizers\n",
        "import os\n",
        "import pandas as pd\n",
        "from google.colab import drive\n",
        "!apt install ffmpeg"
      ],
      "execution_count": 0,
      "outputs": [
        {
          "output_type": "stream",
          "text": [
            "Using TensorFlow backend.\n"
          ],
          "name": "stderr"
        },
        {
          "output_type": "stream",
          "text": [
            "Reading package lists... Done\n",
            "Building dependency tree       \n",
            "Reading state information... Done\n",
            "ffmpeg is already the newest version (7:3.4.4-0ubuntu0.18.04.1).\n",
            "The following package was automatically installed and is no longer required:\n",
            "  libnvidia-common-410\n",
            "Use 'apt autoremove' to remove it.\n",
            "0 upgraded, 0 newly installed, 0 to remove and 11 not upgraded.\n"
          ],
          "name": "stdout"
        }
      ]
    },
    {
      "cell_type": "code",
      "metadata": {
        "id": "29U7GZf2ZD5V",
        "colab_type": "code",
        "colab": {}
      },
      "source": [
        "def extract_feature(file_name, offst=0.5):\n",
        "    X, sample_rate = librosa.load(file_name, res_type='kaiser_fast',offset=offst)\n",
        "    stft = np.abs(librosa.stft(X))\n",
        "    mfccs = np.mean(librosa.feature.mfcc(y=X, sr=sample_rate, n_mfcc=40).T,axis=0)\n",
        "    chroma = np.mean(librosa.feature.chroma_stft(S=stft, sr=sample_rate).T,axis=0)\n",
        "    mel = np.mean(librosa.feature.melspectrogram(X, sr=sample_rate).T,axis=0)\n",
        "    contrast = np.mean(librosa.feature.spectral_contrast(S=stft, sr=sample_rate).T,axis=0)\n",
        "    tonnetz = np.mean(librosa.feature.tonnetz(y=librosa.effects.harmonic(X), sr=sample_rate).T,axis=0)\n",
        "    return mfccs,chroma,mel,contrast,tonnetz\n",
        "\n",
        "def extract_feature_lite(file_name):\n",
        "    X, sample_rate = librosa.load(file_name, res_type='kaiser_fast', sr=None)\n",
        "    #print(\"sample rate:\", sample_rate, '\\n')\n",
        "    mfccs = np.mean(librosa.feature.mfcc(y=X, sr=sample_rate, n_mfcc=64).T, axis=0)\n",
        "    \n",
        "    return mfccs"
      ],
      "execution_count": 0,
      "outputs": []
    },
    {
      "cell_type": "code",
      "metadata": {
        "id": "9TTqxSZyZD5Z",
        "colab_type": "code",
        "outputId": "f57f668c-c6dd-45a8-a848-f908face294a",
        "colab": {
          "base_uri": "https://localhost:8080/",
          "height": 121
        }
      },
      "source": [
        "drive.mount('/content/drive')"
      ],
      "execution_count": 0,
      "outputs": [
        {
          "output_type": "stream",
          "text": [
            "Go to this URL in a browser: https://accounts.google.com/o/oauth2/auth?client_id=947318989803-6bn6qk8qdgf4n4g3pfee6491hc0brc4i.apps.googleusercontent.com&redirect_uri=urn%3Aietf%3Awg%3Aoauth%3A2.0%3Aoob&scope=email%20https%3A%2F%2Fwww.googleapis.com%2Fauth%2Fdocs.test%20https%3A%2F%2Fwww.googleapis.com%2Fauth%2Fdrive%20https%3A%2F%2Fwww.googleapis.com%2Fauth%2Fdrive.photos.readonly%20https%3A%2F%2Fwww.googleapis.com%2Fauth%2Fpeopleapi.readonly&response_type=code\n",
            "\n",
            "Enter your authorization code:\n",
            "··········\n",
            "Mounted at /content/drive\n"
          ],
          "name": "stdout"
        }
      ]
    },
    {
      "cell_type": "code",
      "metadata": {
        "id": "Ld9z5HHQjDGG",
        "colab_type": "code",
        "outputId": "a3bfa99a-31d7-433f-ab6e-618c8791b422",
        "colab": {
          "base_uri": "https://localhost:8080/",
          "height": 34
        }
      },
      "source": [
        "samples = os.listdir('drive/My Drive/Colab Notebooks/RawData')\n",
        "len(samples)"
      ],
      "execution_count": 0,
      "outputs": [
        {
          "output_type": "execute_result",
          "data": {
            "text/plain": [
              "1440"
            ]
          },
          "metadata": {
            "tags": []
          },
          "execution_count": 10
        }
      ]
    },
    {
      "cell_type": "code",
      "metadata": {
        "id": "mFZQowovjGwN",
        "colab_type": "code",
        "colab": {}
      },
      "source": [
        "feeling_list_gender=[]\n",
        "for item in samples:\n",
        "    \n",
        "    if item[6:-16]=='01' and int(item[18:-4])%2==0:\n",
        "        feeling_list_gender.append('female_not_stressed')\n",
        "    elif item[6:-16]=='01' and int(item[18:-4])%2==1:\n",
        "        feeling_list_gender.append('male_not_stressed')\n",
        "    \n",
        "    elif item[6:-16]=='02' and int(item[18:-4])%2==0:\n",
        "        feeling_list_gender.append('female_not_stressed')\n",
        "    elif item[6:-16]=='02' and int(item[18:-4])%2==1:\n",
        "        feeling_list_gender.append('male_not_stressed')\n",
        "    \n",
        "    elif item[6:-16]=='03' and int(item[18:-4])%2==0:\n",
        "        feeling_list_gender.append('female_not_stressed')\n",
        "    elif item[6:-16]=='03' and int(item[18:-4])%2==1:\n",
        "        feeling_list_gender.append('male_not_stressed')\n",
        "    \n",
        "    elif item[6:-16]=='04' and int(item[18:-4])%2==0:\n",
        "        feeling_list_gender.append('female_stressed')\n",
        "    elif item[6:-16]=='04' and int(item[18:-4])%2==1:\n",
        "        feeling_list_gender.append('male_stressed')\n",
        "    \n",
        "    elif item[6:-16]=='05' and int(item[18:-4])%2==0:\n",
        "        feeling_list_gender.append('female_stressed')\n",
        "    elif item[6:-16]=='05' and int(item[18:-4])%2==1:\n",
        "        feeling_list_gender.append('male_stressed')\n",
        "    \n",
        "    elif item[6:-16]=='06' and int(item[18:-4])%2==0:\n",
        "        feeling_list_gender.append('female_stressed')\n",
        "    elif item[6:-16]=='06' and int(item[18:-4])%2==1:\n",
        "        feeling_list_gender.append('male_stressed')\n",
        "    \n",
        "    elif item[6:-16]=='07' and int(item[18:-4])%2==0:\n",
        "        feeling_list_gender.append('female_not_stressed')\n",
        "    elif item[6:-16]=='07' and int(item[18:-4])%2==1:\n",
        "        feeling_list_gender.append('male_not_stressed')\n",
        "    \n",
        "    elif item[6:-16]=='08' and int(item[18:-4])%2==0:\n",
        "        feeling_list_gender.append('female_not_stressed')\n",
        "    elif item[6:-16]=='08' and int(item[18:-4])%2==1:\n",
        "        feeling_list_gender.append('male_not_stressed')"
      ],
      "execution_count": 0,
      "outputs": []
    },
    {
      "cell_type": "code",
      "metadata": {
        "id": "VQqJRO5BmpDg",
        "colab_type": "code",
        "outputId": "a0ee1a36-d84c-42dd-b5e9-eef91999e6d8",
        "colab": {
          "base_uri": "https://localhost:8080/",
          "height": 34
        }
      },
      "source": [
        "len(feeling_list_gender)"
      ],
      "execution_count": 0,
      "outputs": [
        {
          "output_type": "execute_result",
          "data": {
            "text/plain": [
              "1440"
            ]
          },
          "metadata": {
            "tags": []
          },
          "execution_count": 12
        }
      ]
    },
    {
      "cell_type": "code",
      "metadata": {
        "colab_type": "code",
        "id": "sVDpTGtBmbRM",
        "colab": {}
      },
      "source": [
        "feeling_list=[]\n",
        "for item in samples:\n",
        "    \n",
        "    if item[6:-16]=='01' and int(item[18:-4])%2==0:\n",
        "        feeling_list.append('not_stressed')\n",
        "    elif item[6:-16]=='01' and int(item[18:-4])%2==1:\n",
        "        feeling_list.append('not_stressed')\n",
        "    \n",
        "    elif item[6:-16]=='02' and int(item[18:-4])%2==0:\n",
        "        feeling_list.append('not_stressed')\n",
        "    elif item[6:-16]=='02' and int(item[18:-4])%2==1:\n",
        "        feeling_list.append('not_stressed')\n",
        "    \n",
        "    elif item[6:-16]=='03' and int(item[18:-4])%2==0:\n",
        "        feeling_list.append('not_stressed')\n",
        "    elif item[6:-16]=='03' and int(item[18:-4])%2==1:\n",
        "        feeling_list.append('not_stressed')\n",
        "    \n",
        "    elif item[6:-16]=='04' and int(item[18:-4])%2==0:\n",
        "        feeling_list.append('stressed')\n",
        "    elif item[6:-16]=='04' and int(item[18:-4])%2==1:\n",
        "        feeling_list.append('stressed')\n",
        "    \n",
        "    elif item[6:-16]=='05' and int(item[18:-4])%2==0:\n",
        "        feeling_list.append('stressed')\n",
        "    elif item[6:-16]=='05' and int(item[18:-4])%2==1:\n",
        "        feeling_list.append('stressed')\n",
        "    \n",
        "    elif item[6:-16]=='06' and int(item[18:-4])%2==0:\n",
        "        feeling_list.append('stressed')\n",
        "    elif item[6:-16]=='06' and int(item[18:-4])%2==1:\n",
        "        feeling_list.append('stressed')\n",
        "    \n",
        "    elif item[6:-16]=='07' and int(item[18:-4])%2==0:\n",
        "        feeling_list.append('not_stressed')\n",
        "    elif item[6:-16]=='07' and int(item[18:-4])%2==1:\n",
        "        feeling_list.append('not_stressed')\n",
        "    \n",
        "    elif item[6:-16]=='08' and int(item[18:-4])%2==0:\n",
        "        feeling_list.append('not_stressed')\n",
        "    elif item[6:-16]=='08' and int(item[18:-4])%2==1:\n",
        "        feeling_list.append('not_stressed')"
      ],
      "execution_count": 0,
      "outputs": []
    },
    {
      "cell_type": "code",
      "metadata": {
        "id": "8DbtDNThmwWs",
        "colab_type": "code",
        "outputId": "5a0448bc-bfd4-494c-f289-3cf8f95fe84a",
        "colab": {
          "base_uri": "https://localhost:8080/",
          "height": 34
        }
      },
      "source": [
        "len(feeling_list)"
      ],
      "execution_count": 0,
      "outputs": [
        {
          "output_type": "execute_result",
          "data": {
            "text/plain": [
              "1440"
            ]
          },
          "metadata": {
            "tags": []
          },
          "execution_count": 14
        }
      ]
    },
    {
      "cell_type": "code",
      "metadata": {
        "id": "A0JMkNfMZD5n",
        "colab_type": "code",
        "colab": {}
      },
      "source": [
        "labels = pd.DataFrame(feeling_list)\n",
        "labels_gender = pd.DataFrame(feeling_list_gender)"
      ],
      "execution_count": 0,
      "outputs": []
    },
    {
      "cell_type": "code",
      "metadata": {
        "id": "b-9SjqJWZD5q",
        "colab_type": "code",
        "outputId": "97e1cf8f-aecd-4c38-b47b-60080a4ce7cf",
        "colab": {
          "base_uri": "https://localhost:8080/",
          "height": 269
        }
      },
      "source": [
        "df = pd.DataFrame(columns=['feature'])\n",
        "bookmark=0\n",
        "for index, y in enumerate(samples):\n",
        "  \n",
        "    mfccs = extract_feature_lite('drive/My Drive/Colab Notebooks/RawData/'+y)\n",
        "\n",
        "    feature = mfccs\n",
        "    df.loc[bookmark] = [feature]\n",
        "    bookmark=bookmark+1\n",
        "\n",
        "    if bookmark % 100 == 0:\n",
        "      print(bookmark)\n",
        "print(\"the end\")"
      ],
      "execution_count": 0,
      "outputs": [
        {
          "output_type": "stream",
          "text": [
            "100\n",
            "200\n",
            "300\n",
            "400\n",
            "500\n",
            "600\n",
            "700\n",
            "800\n",
            "900\n",
            "1000\n",
            "1100\n",
            "1200\n",
            "1300\n",
            "1400\n",
            "the end\n"
          ],
          "name": "stdout"
        }
      ]
    },
    {
      "cell_type": "code",
      "metadata": {
        "id": "iKXiZZLAKIvc",
        "colab_type": "code",
        "outputId": "081dd5c5-09bb-44d5-f42e-c6807f7c0249",
        "colab": {
          "base_uri": "https://localhost:8080/",
          "height": 34
        }
      },
      "source": [
        "examples = os.listdir('drive/My Drive/Colab Notebooks/saved_models/Examples')\n",
        "len(examples)"
      ],
      "execution_count": 0,
      "outputs": [
        {
          "output_type": "execute_result",
          "data": {
            "text/plain": [
              "12"
            ]
          },
          "metadata": {
            "tags": []
          },
          "execution_count": 6
        }
      ]
    },
    {
      "cell_type": "code",
      "metadata": {
        "id": "gOCG1Jp5KP2C",
        "colab_type": "code",
        "colab": {}
      },
      "source": [
        "df_ex = pd.DataFrame(columns=['feature'])\n",
        "bookmark=0\n",
        "srs = []\n",
        "for index, y in enumerate(examples):\n",
        "  \n",
        "    mfccs, sr = extract_feature_lite('drive/My Drive/Colab Notebooks/saved_models/Examples/'+y)\n",
        "    srs.append(sr)\n",
        "    feature = mfccs\n",
        "    df_ex.loc[bookmark] = [feature]\n",
        "    bookmark=bookmark+1\n",
        "\n",
        "    if bookmark % 100 == 0:\n",
        "      print(bookmark)\n",
        "print(\"the end\")"
      ],
      "execution_count": 0,
      "outputs": []
    },
    {
      "cell_type": "code",
      "metadata": {
        "id": "rIhKVr9uKaHU",
        "colab_type": "code",
        "outputId": "96d0e90f-f47d-46ef-8c56-738e7f9ad9e0",
        "colab": {
          "base_uri": "https://localhost:8080/",
          "height": 34
        }
      },
      "source": [
        "len(df_ex.loc[0][0])"
      ],
      "execution_count": 0,
      "outputs": [
        {
          "output_type": "execute_result",
          "data": {
            "text/plain": [
              "30"
            ]
          },
          "metadata": {
            "tags": []
          },
          "execution_count": 8
        }
      ]
    },
    {
      "cell_type": "code",
      "metadata": {
        "id": "I3LWzaaAKiqg",
        "colab_type": "code",
        "colab": {}
      },
      "source": [
        "df3_ex = pd.DataFrame(df_ex['feature'].values.tolist())\n",
        "labels_ex = pd.DataFrame(examples)\n",
        "srs_ex = pd.DataFrame(srs)\n",
        "newdf_ex = pd.concat([df3_ex, labels_ex, srs_ex], axis=1)"
      ],
      "execution_count": 0,
      "outputs": []
    },
    {
      "cell_type": "code",
      "metadata": {
        "id": "iBmQmL8OKtYQ",
        "colab_type": "code",
        "colab": {}
      },
      "source": [
        "rnewdf_ex = newdf_ex.rename(index=str, columns={\"0\": \"label\"})\n",
        "rnewdf_ex = rnewdf_ex.fillna(0)"
      ],
      "execution_count": 0,
      "outputs": []
    },
    {
      "cell_type": "code",
      "metadata": {
        "id": "vb8xeFaCLBZ-",
        "colab_type": "code",
        "colab": {}
      },
      "source": [
        "rnewdf_ex.to_csv(\"drive/My Drive/Colab Notebooks/saved_models/Examples/Examples_MFCC.csv\", sep='\\t', encoding='utf-8')"
      ],
      "execution_count": 0,
      "outputs": []
    },
    {
      "cell_type": "code",
      "metadata": {
        "id": "tagUiwcOgejS",
        "colab_type": "code",
        "outputId": "72d252b6-94e6-4f64-9ed2-819625b7eb63",
        "colab": {
          "base_uri": "https://localhost:8080/",
          "height": 50
        }
      },
      "source": [
        "import pandas as pd\n",
        "train_reader = pd.read_table(\"drive/My Drive/Colab Notebooks/Features/ENG8_STRESS_64MFCC_GENDER.csv\", sep='\\t', encoding='utf-8')\n",
        "rnewdf = pd.DataFrame(train_reader)\n",
        "rnewdf = rnewdf.drop(columns=['Unnamed: 0']) "
      ],
      "execution_count": 0,
      "outputs": [
        {
          "output_type": "stream",
          "text": [
            "/usr/local/lib/python3.6/dist-packages/ipykernel_launcher.py:2: FutureWarning: read_table is deprecated, use read_csv instead.\n",
            "  \n"
          ],
          "name": "stderr"
        }
      ]
    },
    {
      "cell_type": "code",
      "metadata": {
        "id": "O4JHkPP1ZD5t",
        "colab_type": "code",
        "outputId": "4ac7cc69-c5b6-4b73-ec44-b05724eb0a83",
        "colab": {
          "base_uri": "https://localhost:8080/",
          "height": 34
        }
      },
      "source": [
        "len(df.loc[0][0])"
      ],
      "execution_count": 0,
      "outputs": [
        {
          "output_type": "execute_result",
          "data": {
            "text/plain": [
              "30"
            ]
          },
          "metadata": {
            "tags": []
          },
          "execution_count": 10
        }
      ]
    },
    {
      "cell_type": "code",
      "metadata": {
        "id": "25yjP4FqZD5y",
        "colab_type": "code",
        "colab": {}
      },
      "source": [
        "df3 = pd.DataFrame(df['feature'].values.tolist())\n",
        "\n",
        "newdf = pd.concat([df3,labels], axis=1)\n",
        "newdf_gender = pd.concat([df3,labels_gender], axis=1)\n",
        "\n",
        "rnewdf = newdf.rename(index=str, columns={\"0\": \"label\"})\n",
        "rnewdf_gender = newdf_gender.rename(index=str, columns={\"0\": \"label\"})\n",
        "\n",
        "\n",
        "from sklearn.utils import shuffle\n",
        "rnewdf = shuffle(newdf)\n",
        "rnewdf_gender = shuffle(newdf_gender)\n",
        "\n",
        "rnewdf=rnewdf.fillna(0)\n",
        "rnewdf_gender=rnewdf_gender.fillna(0)\n",
        "#rnewdf"
      ],
      "execution_count": 0,
      "outputs": []
    },
    {
      "cell_type": "code",
      "metadata": {
        "id": "nM5uxGILnUW5",
        "colab_type": "code",
        "colab": {}
      },
      "source": [
        "rnewdf.to_csv(\"drive/My Drive/Colab Notebooks/Features/ENG8_STRESS_64MFCC.csv\", sep='\\t', encoding='utf-8')\n",
        "rnewdf_gender.to_csv(\"drive/My Drive/Colab Notebooks/Features/ENG8_STRESS_64MFCC_GENDER.csv\", sep='\\t', encoding='utf-8')"
      ],
      "execution_count": 0,
      "outputs": []
    },
    {
      "cell_type": "code",
      "metadata": {
        "id": "DZAB4HC-0vTg",
        "colab_type": "code",
        "outputId": "f33d09c9-a2fc-4f0e-f8fb-f42f4c40f87c",
        "colab": {
          "base_uri": "https://localhost:8080/",
          "height": 244
        }
      },
      "source": [
        "rnewdf.head()"
      ],
      "execution_count": 0,
      "outputs": [
        {
          "output_type": "execute_result",
          "data": {
            "text/html": [
              "<div>\n",
              "<style scoped>\n",
              "    .dataframe tbody tr th:only-of-type {\n",
              "        vertical-align: middle;\n",
              "    }\n",
              "\n",
              "    .dataframe tbody tr th {\n",
              "        vertical-align: top;\n",
              "    }\n",
              "\n",
              "    .dataframe thead th {\n",
              "        text-align: right;\n",
              "    }\n",
              "</style>\n",
              "<table border=\"1\" class=\"dataframe\">\n",
              "  <thead>\n",
              "    <tr style=\"text-align: right;\">\n",
              "      <th></th>\n",
              "      <th>0</th>\n",
              "      <th>1</th>\n",
              "      <th>2</th>\n",
              "      <th>3</th>\n",
              "      <th>4</th>\n",
              "      <th>5</th>\n",
              "      <th>6</th>\n",
              "      <th>7</th>\n",
              "      <th>8</th>\n",
              "      <th>9</th>\n",
              "      <th>...</th>\n",
              "      <th>55</th>\n",
              "      <th>56</th>\n",
              "      <th>57</th>\n",
              "      <th>58</th>\n",
              "      <th>59</th>\n",
              "      <th>60</th>\n",
              "      <th>61</th>\n",
              "      <th>62</th>\n",
              "      <th>63</th>\n",
              "      <th>0.1</th>\n",
              "    </tr>\n",
              "  </thead>\n",
              "  <tbody>\n",
              "    <tr>\n",
              "      <th>0</th>\n",
              "      <td>-628.481250</td>\n",
              "      <td>83.720636</td>\n",
              "      <td>3.103694</td>\n",
              "      <td>14.209134</td>\n",
              "      <td>8.273428</td>\n",
              "      <td>16.429736</td>\n",
              "      <td>3.999814</td>\n",
              "      <td>1.459396</td>\n",
              "      <td>-8.022567</td>\n",
              "      <td>3.545374</td>\n",
              "      <td>...</td>\n",
              "      <td>3.629655</td>\n",
              "      <td>3.427313</td>\n",
              "      <td>2.764825</td>\n",
              "      <td>2.865849</td>\n",
              "      <td>1.522869</td>\n",
              "      <td>1.297290</td>\n",
              "      <td>1.676922</td>\n",
              "      <td>0.648477</td>\n",
              "      <td>1.723540</td>\n",
              "      <td>male_stressed</td>\n",
              "    </tr>\n",
              "    <tr>\n",
              "      <th>1</th>\n",
              "      <td>-519.894684</td>\n",
              "      <td>60.835354</td>\n",
              "      <td>-20.856232</td>\n",
              "      <td>-6.538954</td>\n",
              "      <td>-10.295874</td>\n",
              "      <td>0.775197</td>\n",
              "      <td>-19.840965</td>\n",
              "      <td>-5.214007</td>\n",
              "      <td>-10.483443</td>\n",
              "      <td>-14.694821</td>\n",
              "      <td>...</td>\n",
              "      <td>0.120656</td>\n",
              "      <td>1.008535</td>\n",
              "      <td>0.719937</td>\n",
              "      <td>0.546650</td>\n",
              "      <td>-0.034688</td>\n",
              "      <td>-0.793124</td>\n",
              "      <td>-0.405453</td>\n",
              "      <td>0.746836</td>\n",
              "      <td>0.881674</td>\n",
              "      <td>female_stressed</td>\n",
              "    </tr>\n",
              "    <tr>\n",
              "      <th>2</th>\n",
              "      <td>-680.059723</td>\n",
              "      <td>73.784591</td>\n",
              "      <td>3.922013</td>\n",
              "      <td>10.956748</td>\n",
              "      <td>3.068671</td>\n",
              "      <td>16.663213</td>\n",
              "      <td>-4.471333</td>\n",
              "      <td>3.705004</td>\n",
              "      <td>-3.772835</td>\n",
              "      <td>-2.552420</td>\n",
              "      <td>...</td>\n",
              "      <td>-0.589465</td>\n",
              "      <td>-0.778683</td>\n",
              "      <td>-0.644382</td>\n",
              "      <td>-0.374399</td>\n",
              "      <td>-0.245838</td>\n",
              "      <td>-0.144239</td>\n",
              "      <td>-0.288894</td>\n",
              "      <td>0.287441</td>\n",
              "      <td>-0.217643</td>\n",
              "      <td>male_not_stressed</td>\n",
              "    </tr>\n",
              "    <tr>\n",
              "      <th>3</th>\n",
              "      <td>-564.211860</td>\n",
              "      <td>54.754709</td>\n",
              "      <td>-12.062169</td>\n",
              "      <td>5.610564</td>\n",
              "      <td>-5.497679</td>\n",
              "      <td>5.011449</td>\n",
              "      <td>-10.285003</td>\n",
              "      <td>-4.891610</td>\n",
              "      <td>-3.626669</td>\n",
              "      <td>-6.795849</td>\n",
              "      <td>...</td>\n",
              "      <td>-0.012573</td>\n",
              "      <td>-0.364115</td>\n",
              "      <td>0.210427</td>\n",
              "      <td>0.703526</td>\n",
              "      <td>0.183680</td>\n",
              "      <td>-0.402481</td>\n",
              "      <td>-0.828882</td>\n",
              "      <td>-1.098595</td>\n",
              "      <td>0.127968</td>\n",
              "      <td>male_not_stressed</td>\n",
              "    </tr>\n",
              "    <tr>\n",
              "      <th>4</th>\n",
              "      <td>-534.116874</td>\n",
              "      <td>78.029979</td>\n",
              "      <td>-2.253419</td>\n",
              "      <td>4.938453</td>\n",
              "      <td>-2.430040</td>\n",
              "      <td>7.737222</td>\n",
              "      <td>-10.021114</td>\n",
              "      <td>0.687168</td>\n",
              "      <td>-13.826915</td>\n",
              "      <td>-9.338982</td>\n",
              "      <td>...</td>\n",
              "      <td>-0.303363</td>\n",
              "      <td>-0.936624</td>\n",
              "      <td>-0.226617</td>\n",
              "      <td>-0.010656</td>\n",
              "      <td>0.373317</td>\n",
              "      <td>0.739897</td>\n",
              "      <td>-0.579542</td>\n",
              "      <td>-0.155554</td>\n",
              "      <td>-0.423452</td>\n",
              "      <td>female_stressed</td>\n",
              "    </tr>\n",
              "  </tbody>\n",
              "</table>\n",
              "<p>5 rows × 65 columns</p>\n",
              "</div>"
            ],
            "text/plain": [
              "            0          1          2          3          4          5  \\\n",
              "0 -628.481250  83.720636   3.103694  14.209134   8.273428  16.429736   \n",
              "1 -519.894684  60.835354 -20.856232  -6.538954 -10.295874   0.775197   \n",
              "2 -680.059723  73.784591   3.922013  10.956748   3.068671  16.663213   \n",
              "3 -564.211860  54.754709 -12.062169   5.610564  -5.497679   5.011449   \n",
              "4 -534.116874  78.029979  -2.253419   4.938453  -2.430040   7.737222   \n",
              "\n",
              "           6         7          8          9  ...        55        56  \\\n",
              "0   3.999814  1.459396  -8.022567   3.545374  ...  3.629655  3.427313   \n",
              "1 -19.840965 -5.214007 -10.483443 -14.694821  ...  0.120656  1.008535   \n",
              "2  -4.471333  3.705004  -3.772835  -2.552420  ... -0.589465 -0.778683   \n",
              "3 -10.285003 -4.891610  -3.626669  -6.795849  ... -0.012573 -0.364115   \n",
              "4 -10.021114  0.687168 -13.826915  -9.338982  ... -0.303363 -0.936624   \n",
              "\n",
              "         57        58        59        60        61        62        63  \\\n",
              "0  2.764825  2.865849  1.522869  1.297290  1.676922  0.648477  1.723540   \n",
              "1  0.719937  0.546650 -0.034688 -0.793124 -0.405453  0.746836  0.881674   \n",
              "2 -0.644382 -0.374399 -0.245838 -0.144239 -0.288894  0.287441 -0.217643   \n",
              "3  0.210427  0.703526  0.183680 -0.402481 -0.828882 -1.098595  0.127968   \n",
              "4 -0.226617 -0.010656  0.373317  0.739897 -0.579542 -0.155554 -0.423452   \n",
              "\n",
              "                 0.1  \n",
              "0      male_stressed  \n",
              "1    female_stressed  \n",
              "2  male_not_stressed  \n",
              "3  male_not_stressed  \n",
              "4    female_stressed  \n",
              "\n",
              "[5 rows x 65 columns]"
            ]
          },
          "metadata": {
            "tags": []
          },
          "execution_count": 35
        }
      ]
    },
    {
      "cell_type": "code",
      "metadata": {
        "id": "8mAkKvB10nZX",
        "colab_type": "code",
        "outputId": "975692bb-67fc-462f-df6c-c718fe00a013",
        "colab": {
          "base_uri": "https://localhost:8080/",
          "height": 50
        }
      },
      "source": [
        "import pandas as pd\n",
        "train_reader = pd.read_table(\"drive/My Drive/Colab Notebooks/Features/ENG8_STRESS_64MFCC_GENDER.csv\", sep='\\t', encoding='utf-8')\n",
        "file_train_df = pd.DataFrame(train_reader)\n",
        "\n",
        "rnewdf = file_train_df.drop(columns=['Unnamed: 0'])\n",
        "\n",
        "\n"
      ],
      "execution_count": 0,
      "outputs": [
        {
          "output_type": "stream",
          "text": [
            "/usr/local/lib/python3.6/dist-packages/ipykernel_launcher.py:2: FutureWarning: read_table is deprecated, use read_csv instead.\n",
            "  \n"
          ],
          "name": "stderr"
        }
      ]
    },
    {
      "cell_type": "code",
      "metadata": {
        "id": "n7t5Il6kZD6L",
        "colab_type": "code",
        "outputId": "254509b4-d9c1-4c4e-96ba-9470db76cc21",
        "colab": {
          "base_uri": "https://localhost:8080/",
          "height": 34
        }
      },
      "source": [
        "newdf1 = np.random.rand(len(rnewdf)) > 0.2\n",
        "\n",
        "train = rnewdf[newdf1]\n",
        "test = rnewdf[~newdf1]\n",
        "\n",
        "print(len(train), len(test))"
      ],
      "execution_count": 0,
      "outputs": [
        {
          "output_type": "stream",
          "text": [
            "1166 274\n"
          ],
          "name": "stdout"
        }
      ]
    },
    {
      "cell_type": "code",
      "metadata": {
        "id": "U-J3ZQK2EV8g",
        "colab_type": "code",
        "colab": {}
      },
      "source": [
        "train.to_csv(\"drive/My Drive/Colab Notebooks/Features/ENG8_STRESS_64MFCC_GENDER_TRAIN.csv\", sep='\\t', encoding='utf-8')"
      ],
      "execution_count": 0,
      "outputs": []
    },
    {
      "cell_type": "code",
      "metadata": {
        "id": "Wlo5VzVaEYrA",
        "colab_type": "code",
        "colab": {}
      },
      "source": [
        "test.to_csv(\"drive/My Drive/Colab Notebooks/Features/ENG8_STRESS_64MFCC_GENDER_TEST.csv\", sep='\\t', encoding='utf-8')"
      ],
      "execution_count": 0,
      "outputs": []
    },
    {
      "cell_type": "code",
      "metadata": {
        "id": "P9Ub57Zs2aWG",
        "colab_type": "code",
        "outputId": "c88c9830-d5d9-4666-f0b9-203edb670755",
        "colab": {
          "base_uri": "https://localhost:8080/",
          "height": 50
        }
      },
      "source": [
        "import pandas as pd\n",
        "train_reader = pd.read_table(\"drive/My Drive/Colab Notebooks/Features/ENG8_STRESS_64MFCC_GENDER_TRAIN.csv\", sep='\\t', encoding='utf-8')\n",
        "file_train_df = pd.DataFrame(train_reader)\n",
        "\n",
        "#file_train_df = file_train_df[file_train_df['0.1'] != 'bored']\n",
        "#file_train_df = file_train_df[file_train_df['0.1'] != 'disgusted']\n",
        "train = file_train_df.drop(columns=['Unnamed: 0'])"
      ],
      "execution_count": 0,
      "outputs": [
        {
          "output_type": "stream",
          "text": [
            "/usr/local/lib/python3.6/dist-packages/ipykernel_launcher.py:2: FutureWarning: read_table is deprecated, use read_csv instead.\n",
            "  \n"
          ],
          "name": "stderr"
        }
      ]
    },
    {
      "cell_type": "code",
      "metadata": {
        "id": "760sPq4945aH",
        "colab_type": "code",
        "outputId": "915d552a-d63d-4974-ca4a-cc6c81beb7cc",
        "colab": {
          "base_uri": "https://localhost:8080/",
          "height": 50
        }
      },
      "source": [
        "test_reader = pd.read_table(\"drive/My Drive/Colab Notebooks/Features/ENG8_STRESS_64MFCC_GENDER_TEST.csv\", sep='\\t', encoding='utf-8')\n",
        "file_test_df = pd.DataFrame(test_reader)\n",
        "\n",
        "test = file_test_df.drop(columns=['Unnamed: 0'])"
      ],
      "execution_count": 0,
      "outputs": [
        {
          "output_type": "stream",
          "text": [
            "/usr/local/lib/python3.6/dist-packages/ipykernel_launcher.py:1: FutureWarning: read_table is deprecated, use read_csv instead.\n",
            "  \"\"\"Entry point for launching an IPython kernel.\n"
          ],
          "name": "stderr"
        }
      ]
    },
    {
      "cell_type": "code",
      "metadata": {
        "id": "_EEBYs6SZD6N",
        "colab_type": "code",
        "colab": {}
      },
      "source": [
        "trainfeatures = train.iloc[:, :-1]\n",
        "trainlabel = train.iloc[:, -1:]\n",
        "\n",
        "testfeatures = test.iloc[:, :-1]\n",
        "testlabel = test.iloc[:, -1:]"
      ],
      "execution_count": 0,
      "outputs": []
    },
    {
      "cell_type": "code",
      "metadata": {
        "id": "lCVW1HvY6G-8",
        "colab_type": "code",
        "outputId": "4d3b62f2-b922-467d-ab63-e8f6240fda46",
        "colab": {
          "base_uri": "https://localhost:8080/",
          "height": 504
        }
      },
      "source": [
        "trainlabel [ trainlabel == 'male_not_stressed'] = 'not_stressed'\n",
        "trainlabel [ trainlabel == 'female_not_stressed'] = 'not_stressed'\n",
        "\n",
        "trainlabel [ trainlabel == 'male_stressed'] = 'stressed'\n",
        "trainlabel [ trainlabel == 'female_stressed'] = 'stressed'"
      ],
      "execution_count": 0,
      "outputs": [
        {
          "output_type": "stream",
          "text": [
            "/usr/local/lib/python3.6/dist-packages/ipykernel_launcher.py:1: SettingWithCopyWarning: \n",
            "A value is trying to be set on a copy of a slice from a DataFrame.\n",
            "Try using .loc[row_indexer,col_indexer] = value instead\n",
            "\n",
            "See the caveats in the documentation: http://pandas.pydata.org/pandas-docs/stable/indexing.html#indexing-view-versus-copy\n",
            "  \"\"\"Entry point for launching an IPython kernel.\n",
            "/usr/local/lib/python3.6/dist-packages/pandas/core/frame.py:3414: SettingWithCopyWarning: \n",
            "A value is trying to be set on a copy of a slice from a DataFrame\n",
            "\n",
            "See the caveats in the documentation: http://pandas.pydata.org/pandas-docs/stable/indexing.html#indexing-view-versus-copy\n",
            "  self._where(-key, value, inplace=True)\n",
            "/usr/local/lib/python3.6/dist-packages/ipykernel_launcher.py:2: SettingWithCopyWarning: \n",
            "A value is trying to be set on a copy of a slice from a DataFrame.\n",
            "Try using .loc[row_indexer,col_indexer] = value instead\n",
            "\n",
            "See the caveats in the documentation: http://pandas.pydata.org/pandas-docs/stable/indexing.html#indexing-view-versus-copy\n",
            "  \n",
            "/usr/local/lib/python3.6/dist-packages/ipykernel_launcher.py:4: SettingWithCopyWarning: \n",
            "A value is trying to be set on a copy of a slice from a DataFrame.\n",
            "Try using .loc[row_indexer,col_indexer] = value instead\n",
            "\n",
            "See the caveats in the documentation: http://pandas.pydata.org/pandas-docs/stable/indexing.html#indexing-view-versus-copy\n",
            "  after removing the cwd from sys.path.\n",
            "/usr/local/lib/python3.6/dist-packages/ipykernel_launcher.py:5: SettingWithCopyWarning: \n",
            "A value is trying to be set on a copy of a slice from a DataFrame.\n",
            "Try using .loc[row_indexer,col_indexer] = value instead\n",
            "\n",
            "See the caveats in the documentation: http://pandas.pydata.org/pandas-docs/stable/indexing.html#indexing-view-versus-copy\n",
            "  \"\"\"\n"
          ],
          "name": "stderr"
        }
      ]
    },
    {
      "cell_type": "code",
      "metadata": {
        "id": "BDNJ_adX6jqW",
        "colab_type": "code",
        "outputId": "64ce8855-37ac-40d4-8e1f-424ae1656797",
        "colab": {
          "base_uri": "https://localhost:8080/",
          "height": 504
        }
      },
      "source": [
        "testlabel [ testlabel == 'male_not_stressed'] = 'not_stressed'\n",
        "testlabel [ testlabel == 'female_not_stressed'] = 'not_stressed'\n",
        "\n",
        "testlabel [ testlabel == 'male_stressed'] = 'stressed'\n",
        "testlabel [ testlabel == 'female_stressed'] = 'stressed'"
      ],
      "execution_count": 0,
      "outputs": [
        {
          "output_type": "stream",
          "text": [
            "/usr/local/lib/python3.6/dist-packages/ipykernel_launcher.py:1: SettingWithCopyWarning: \n",
            "A value is trying to be set on a copy of a slice from a DataFrame.\n",
            "Try using .loc[row_indexer,col_indexer] = value instead\n",
            "\n",
            "See the caveats in the documentation: http://pandas.pydata.org/pandas-docs/stable/indexing.html#indexing-view-versus-copy\n",
            "  \"\"\"Entry point for launching an IPython kernel.\n",
            "/usr/local/lib/python3.6/dist-packages/pandas/core/frame.py:3414: SettingWithCopyWarning: \n",
            "A value is trying to be set on a copy of a slice from a DataFrame\n",
            "\n",
            "See the caveats in the documentation: http://pandas.pydata.org/pandas-docs/stable/indexing.html#indexing-view-versus-copy\n",
            "  self._where(-key, value, inplace=True)\n",
            "/usr/local/lib/python3.6/dist-packages/ipykernel_launcher.py:2: SettingWithCopyWarning: \n",
            "A value is trying to be set on a copy of a slice from a DataFrame.\n",
            "Try using .loc[row_indexer,col_indexer] = value instead\n",
            "\n",
            "See the caveats in the documentation: http://pandas.pydata.org/pandas-docs/stable/indexing.html#indexing-view-versus-copy\n",
            "  \n",
            "/usr/local/lib/python3.6/dist-packages/ipykernel_launcher.py:4: SettingWithCopyWarning: \n",
            "A value is trying to be set on a copy of a slice from a DataFrame.\n",
            "Try using .loc[row_indexer,col_indexer] = value instead\n",
            "\n",
            "See the caveats in the documentation: http://pandas.pydata.org/pandas-docs/stable/indexing.html#indexing-view-versus-copy\n",
            "  after removing the cwd from sys.path.\n",
            "/usr/local/lib/python3.6/dist-packages/ipykernel_launcher.py:5: SettingWithCopyWarning: \n",
            "A value is trying to be set on a copy of a slice from a DataFrame.\n",
            "Try using .loc[row_indexer,col_indexer] = value instead\n",
            "\n",
            "See the caveats in the documentation: http://pandas.pydata.org/pandas-docs/stable/indexing.html#indexing-view-versus-copy\n",
            "  \"\"\"\n"
          ],
          "name": "stderr"
        }
      ]
    },
    {
      "cell_type": "code",
      "metadata": {
        "id": "ew5ZSJIfEgzl",
        "colab_type": "code",
        "outputId": "b0989d74-cc8e-445e-b06d-d21df1426322",
        "colab": {
          "base_uri": "https://localhost:8080/",
          "height": 34
        }
      },
      "source": [
        "print(trainlabel.shape, testlabel.shape)"
      ],
      "execution_count": 0,
      "outputs": [
        {
          "output_type": "stream",
          "text": [
            "(1166, 1) (274, 1)\n"
          ],
          "name": "stdout"
        }
      ]
    },
    {
      "cell_type": "code",
      "metadata": {
        "id": "V-pwlZA6FWUk",
        "colab_type": "code",
        "outputId": "9ba663c5-9dfc-4a79-a061-5e6abc421b74",
        "colab": {
          "base_uri": "https://localhost:8080/",
          "height": 195
        }
      },
      "source": [
        "trainlabel[0:5]"
      ],
      "execution_count": 0,
      "outputs": [
        {
          "output_type": "execute_result",
          "data": {
            "text/html": [
              "<div>\n",
              "<style scoped>\n",
              "    .dataframe tbody tr th:only-of-type {\n",
              "        vertical-align: middle;\n",
              "    }\n",
              "\n",
              "    .dataframe tbody tr th {\n",
              "        vertical-align: top;\n",
              "    }\n",
              "\n",
              "    .dataframe thead th {\n",
              "        text-align: right;\n",
              "    }\n",
              "</style>\n",
              "<table border=\"1\" class=\"dataframe\">\n",
              "  <thead>\n",
              "    <tr style=\"text-align: right;\">\n",
              "      <th></th>\n",
              "      <th>0.1</th>\n",
              "    </tr>\n",
              "  </thead>\n",
              "  <tbody>\n",
              "    <tr>\n",
              "      <th>0</th>\n",
              "      <td>stressed</td>\n",
              "    </tr>\n",
              "    <tr>\n",
              "      <th>1</th>\n",
              "      <td>stressed</td>\n",
              "    </tr>\n",
              "    <tr>\n",
              "      <th>2</th>\n",
              "      <td>not_stressed</td>\n",
              "    </tr>\n",
              "    <tr>\n",
              "      <th>3</th>\n",
              "      <td>not_stressed</td>\n",
              "    </tr>\n",
              "    <tr>\n",
              "      <th>4</th>\n",
              "      <td>stressed</td>\n",
              "    </tr>\n",
              "  </tbody>\n",
              "</table>\n",
              "</div>"
            ],
            "text/plain": [
              "            0.1\n",
              "0      stressed\n",
              "1      stressed\n",
              "2  not_stressed\n",
              "3  not_stressed\n",
              "4      stressed"
            ]
          },
          "metadata": {
            "tags": []
          },
          "execution_count": 97
        }
      ]
    },
    {
      "cell_type": "code",
      "metadata": {
        "colab_type": "code",
        "outputId": "34784021-4570-4029-d569-8370d25a71b6",
        "id": "d9r9qoTNrzr5",
        "colab": {
          "base_uri": "https://localhost:8080/",
          "height": 50
        }
      },
      "source": [
        "from keras.utils import np_utils\n",
        "from sklearn.preprocessing import LabelEncoder\n",
        "\n",
        "X_train = np.array(trainfeatures)\n",
        "y_train = np.array(trainlabel)\n",
        "\n",
        "X_test = np.array(testfeatures)\n",
        "y_test = np.array(testlabel)\n",
        "\n",
        "print(X_train.shape)\n",
        "print(X_test.shape)\n",
        "\n",
        "y_train = np.squeeze(y_train, axis=(1,))\n",
        "y_test = np.squeeze(y_test, axis=(1,))"
      ],
      "execution_count": 0,
      "outputs": [
        {
          "output_type": "stream",
          "text": [
            "(1166, 64)\n",
            "(274, 64)\n"
          ],
          "name": "stdout"
        }
      ]
    },
    {
      "cell_type": "code",
      "metadata": {
        "id": "x0V8jAN1wu2e",
        "colab_type": "code",
        "colab": {}
      },
      "source": [
        "lb = LabelEncoder()\n",
        "y_train = np_utils.to_categorical(lb.fit_transform(y_train))"
      ],
      "execution_count": 0,
      "outputs": []
    },
    {
      "cell_type": "code",
      "metadata": {
        "id": "0eX8zjxWwv13",
        "colab_type": "code",
        "colab": {}
      },
      "source": [
        "y_test = np_utils.to_categorical(lb.fit_transform(y_test))"
      ],
      "execution_count": 0,
      "outputs": []
    },
    {
      "cell_type": "code",
      "metadata": {
        "id": "04f1Eg7vSNPG",
        "colab_type": "code",
        "outputId": "26ab5e85-0e96-414f-c577-67ec200bd46c",
        "colab": {
          "base_uri": "https://localhost:8080/",
          "height": 168
        }
      },
      "source": [
        "print(y_train.shape)\n",
        "print(y_test.shape)\n",
        "print(y_train)"
      ],
      "execution_count": 0,
      "outputs": [
        {
          "output_type": "stream",
          "text": [
            "(1166, 2)\n",
            "(274, 2)\n",
            "[[0. 1.]\n",
            " [0. 1.]\n",
            " [1. 0.]\n",
            " ...\n",
            " [0. 1.]\n",
            " [1. 0.]\n",
            " [1. 0.]]\n"
          ],
          "name": "stdout"
        }
      ]
    },
    {
      "cell_type": "code",
      "metadata": {
        "id": "oz0fC-LjRkUY",
        "colab_type": "code",
        "colab": {}
      },
      "source": [
        "np.save('drive/My Drive/Colab Notebooks/saved_models/2class_ENG-stress_gender-classes.npy', lb.classes_)"
      ],
      "execution_count": 0,
      "outputs": []
    },
    {
      "cell_type": "code",
      "metadata": {
        "colab_type": "code",
        "outputId": "dfa73faa-def4-4d44-dd68-ffb9e37a2aef",
        "id": "RpJ_V_torzsQ",
        "colab": {
          "base_uri": "https://localhost:8080/",
          "height": 50
        }
      },
      "source": [
        "x_traincnn =np.expand_dims(X_train, axis=2)\n",
        "x_testcnn= np.expand_dims(X_test, axis=2)\n",
        "#x_validcnn = np.expand_dims(X_valid, axis=2)\n",
        "print(x_traincnn.shape)\n",
        "print(x_testcnn.shape)\n",
        "#print(x_validcnn.shape)"
      ],
      "execution_count": 0,
      "outputs": [
        {
          "output_type": "stream",
          "text": [
            "(1166, 64, 1)\n",
            "(274, 64, 1)\n"
          ],
          "name": "stdout"
        }
      ]
    },
    {
      "cell_type": "code",
      "metadata": {
        "id": "Cod2EC5_gX1p",
        "colab_type": "code",
        "colab": {}
      },
      "source": [
        "from keras.layers.normalization import BatchNormalization\n",
        "#CNN 88.19% na 300\n",
        "model = Sequential()\n",
        "\n",
        "model.add(Conv1D(256, 5,padding='same',\n",
        "                 input_shape=(x_traincnn.shape[1],1)))\n",
        "model.add(BatchNormalization())\n",
        "model.add(Activation('relu'))\n",
        "\n",
        "\n",
        "model.add(Conv1D(128, 5,padding='same'))\n",
        "model.add(Activation('relu'))\n",
        "model.add(Dropout(0.1))\n",
        "\n",
        "model.add(BatchNormalization())\n",
        "\n",
        "model.add(MaxPooling1D(pool_size=(8)))\n",
        "model.add(Conv1D(128, 5,padding='same',))\n",
        "model.add(Activation('relu'))\n",
        "''' 80.18 s blokom i bez'''\n",
        "model.add(Conv1D(128, 5,padding='same',))\n",
        "model.add(Activation('relu'))\n",
        "\n",
        "model.add(Conv1D(128, 5,padding='same',))\n",
        "model.add(BatchNormalization())\n",
        "model.add(Activation('relu'))\n",
        "\n",
        "model.add(Dropout(0.2))\n",
        "\n",
        "model.add(Conv1D(128, 5,padding='same',))\n",
        "model.add(Activation('relu'))\n",
        "model.add(Flatten())\n",
        "\n",
        "model.add(Dense(2))\n",
        "model.add(BatchNormalization())\n",
        "#model.add(Dropout(0.1))\n",
        "model.add(Activation('softmax'))\n",
        "\n",
        "#model.summary()"
      ],
      "execution_count": 0,
      "outputs": []
    },
    {
      "cell_type": "code",
      "metadata": {
        "id": "kjBUgCFnZD6j",
        "colab_type": "code",
        "colab": {}
      },
      "source": [
        "from keras.layers.normalization import BatchNormalization\n",
        "#CNN 84.14% na 300\n",
        "model = Sequential()\n",
        "\n",
        "model.add(Conv1D(256, 5,padding='same',\n",
        "                 input_shape=(x_traincnn.shape[1],1)))\n",
        "model.add(BatchNormalization())\n",
        "model.add(Activation('relu'))\n",
        "\n",
        "\n",
        "model.add(Conv1D(128, 5,padding='same'))\n",
        "model.add(Activation('relu'))\n",
        "model.add(Dropout(0.1))\n",
        "\n",
        "model.add(BatchNormalization())\n",
        "\n",
        "model.add(MaxPooling1D(pool_size=(8)))\n",
        "model.add(Conv1D(128, 5,padding='same',))\n",
        "model.add(Activation('relu'))\n",
        "''' 80.18 s blokom i bez'''\n",
        "model.add(Conv1D(128, 5,padding='same',))\n",
        "model.add(Activation('relu'))\n",
        "\n",
        "model.add(Conv1D(128, 5,padding='same',))\n",
        "model.add(BatchNormalization())\n",
        "model.add(Activation('relu'))\n",
        "\n",
        "model.add(Dropout(0.2))\n",
        "\n",
        "model.add(Conv1D(128, 5,padding='same',))\n",
        "model.add(Activation('relu'))\n",
        "model.add(Flatten())\n",
        "\n",
        "model.add(Dense(4))\n",
        "model.add(BatchNormalization())\n",
        "#model.add(Dropout(0.1))\n",
        "model.add(Activation('softmax'))\n",
        "\n",
        "#model.summary()"
      ],
      "execution_count": 0,
      "outputs": []
    },
    {
      "cell_type": "code",
      "metadata": {
        "id": "PEiq5xbmZD6l",
        "colab_type": "code",
        "colab": {}
      },
      "source": [
        "opt = keras.optimizers.rmsprop(lr=0.00001, decay=1e-6)\n",
        "opt1 = keras.optimizers.Adam(lr=0.00001, beta_1=0.9, beta_2=0.999, epsilon=None, decay=1e-6, amsgrad=False)\n"
      ],
      "execution_count": 0,
      "outputs": []
    },
    {
      "cell_type": "code",
      "metadata": {
        "id": "Hyyfbw4KvNJs",
        "colab_type": "code",
        "colab": {}
      },
      "source": [
        "model.compile(loss='categorical_crossentropy', optimizer=opt,metrics=['accuracy'])"
      ],
      "execution_count": 0,
      "outputs": []
    },
    {
      "cell_type": "code",
      "metadata": {
        "id": "IQ2Ynu0AZD6q",
        "colab_type": "code",
        "outputId": "11709dcd-fe12-4c6d-ea9d-19800940ae25",
        "colab": {
          "base_uri": "https://localhost:8080/",
          "height": 67
        }
      },
      "source": [
        "cnnhistory=model.fit(x_traincnn, y_train, batch_size=32, epochs=300, validation_data=(x_testcnn, y_test))"
      ],
      "execution_count": 0,
      "outputs": [
        {
          "output_type": "stream",
          "text": [
            "Train on 1166 samples, validate on 274 samples\n",
            "Epoch 1/1\n",
            "1166/1166 [==============================] - 2s 2ms/step - loss: 0.2100 - acc: 0.9648 - val_loss: 0.3416 - val_acc: 0.8431\n"
          ],
          "name": "stdout"
        }
      ]
    },
    {
      "cell_type": "code",
      "metadata": {
        "id": "8ch9xV4tZD6u",
        "colab_type": "code",
        "outputId": "767e5ebc-6aac-44e8-d1a7-69218d4dd77b",
        "colab": {
          "base_uri": "https://localhost:8080/",
          "height": 295
        }
      },
      "source": [
        "plt.plot(cnnhistory.history['loss'])\n",
        "plt.plot(cnnhistory.history['val_loss'])\n",
        "plt.title('model loss')\n",
        "plt.ylabel('loss')\n",
        "plt.xlabel('epoch')\n",
        "plt.legend(['train', 'validation'], loc='upper left')\n",
        "plt.show()"
      ],
      "execution_count": 0,
      "outputs": [
        {
          "output_type": "display_data",
          "data": {
            "image/png": "[encoded data removed]",
            "text/plain": [
              "<Figure size 432x288 with 1 Axes>"
            ]
          },
          "metadata": {
            "tags": []
          }
        }
      ]
    },
    {
      "cell_type": "code",
      "metadata": {
        "id": "GYozCs2qZD6w",
        "colab_type": "code",
        "outputId": "30c60017-a4f5-49bc-a464-56cc352c9cff",
        "colab": {
          "base_uri": "https://localhost:8080/",
          "height": 34
        }
      },
      "source": [
        "model.compile(loss='categorical_crossentropy', optimizer=opt, metrics=['accuracy'])\n",
        "score = model.evaluate(x_testcnn, y_test, verbose=0)\n",
        "print(\"%s: %.2f%%\" % (model.metrics_names[1], score[1]*100))"
      ],
      "execution_count": 0,
      "outputs": [
        {
          "output_type": "stream",
          "text": [
            "acc: 84.67%\n"
          ],
          "name": "stdout"
        }
      ]
    },
    {
      "cell_type": "code",
      "metadata": {
        "id": "a9IcQvaKco0y",
        "colab_type": "code",
        "outputId": "63ca533e-dfec-44aa-85ad-af640c61b097",
        "colab": {
          "base_uri": "https://localhost:8080/",
          "height": 34
        }
      },
      "source": [
        "model_name = 'Stress_recog_64MFCC_without_gender.h5'\n",
        "save_dir = os.path.join('drive/My Drive/Colab Notebooks/', 'saved_models')\n",
        "# Save model and weights\n",
        "if not os.path.isdir(save_dir):\n",
        "    os.makedirs(save_dir)\n",
        "model_path = os.path.join(save_dir, model_name)\n",
        "model.save(model_path)\n",
        "print('Saved trained model at %s ' % model_path)"
      ],
      "execution_count": 0,
      "outputs": [
        {
          "output_type": "stream",
          "text": [
            "Saved trained model at drive/My Drive/Colab Notebooks/saved_models/Stress_recog_64MFCC_without_gender.h5 \n"
          ],
          "name": "stdout"
        }
      ]
    },
    {
      "cell_type": "code",
      "metadata": {
        "id": "JuvyPQQActNd",
        "colab_type": "code",
        "colab": {}
      },
      "source": [
        "import json\n",
        "model_json = model.to_json()\n",
        "with open(\"drive/My Drive/Colab Notebooks/saved_models/Stress_recog_64MFCC_without_gender.json\", \"w\") as json_file:\n",
        "    json_file.write(model_json)"
      ],
      "execution_count": 0,
      "outputs": []
    },
    {
      "cell_type": "code",
      "metadata": {
        "id": "52Ydoqn2cybV",
        "colab_type": "code",
        "outputId": "1a234ee6-9137-47ca-8eb1-4f036f046cf5",
        "colab": {
          "base_uri": "https://localhost:8080/",
          "height": 50
        }
      },
      "source": [
        "# loading json and creating model\n",
        "from keras.models import model_from_json\n",
        "json_file = open('drive/My Drive/Colab Notebooks/saved_models/Stress_recog_64MFCC_without_gender.json', 'r')\n",
        "loaded_model_json = json_file.read()\n",
        "json_file.close()\n",
        "loaded_model = model_from_json(loaded_model_json)\n",
        "# load weights into new model\n",
        "loaded_model.load_weights(\"drive/My Drive/Colab Notebooks/saved_models/Stress_recog_64MFCC_without_gender.h5\")\n",
        "print(\"Loaded model from disk\")\n",
        " \n",
        "# evaluate loaded model on test data\n",
        "loaded_model.compile(loss='categorical_crossentropy', optimizer=opt, metrics=['accuracy'])\n",
        "score = loaded_model.evaluate(x_testcnn, y_test, verbose=0)\n",
        "print(\"%s: %.2f%%\" % (loaded_model.metrics_names[1], score[1]*100))"
      ],
      "execution_count": 0,
      "outputs": [
        {
          "output_type": "stream",
          "text": [
            "Loaded model from disk\n",
            "acc: 84.67%\n"
          ],
          "name": "stdout"
        }
      ]
    },
    {
      "cell_type": "code",
      "metadata": {
        "colab_type": "code",
        "outputId": "5bb18f04-a816-4995-ab38-0c628eb8d7fe",
        "id": "BzxFS7-QAkuH",
        "colab": {
          "base_uri": "https://localhost:8080/",
          "height": 84
        }
      },
      "source": [
        "import pandas as pd\n",
        "\n",
        "y_pred = loaded_model.predict(x_testcnn)\n",
        "print(y_pred.shape)\n",
        "yy = []\n",
        "ya = []\n",
        "for j in y_pred:\n",
        "  yy.append(np.argmax(j))\n",
        "print(len(yy))\n",
        "\n",
        "for j in y_test:\n",
        "  ya.append(np.argmax(j))\n",
        "from sklearn.metrics import confusion_matrix\n",
        "\n",
        "confusion_matrix(ya, yy)"
      ],
      "execution_count": 0,
      "outputs": [
        {
          "output_type": "stream",
          "text": [
            "(274, 2)\n",
            "274\n"
          ],
          "name": "stdout"
        },
        {
          "output_type": "execute_result",
          "data": {
            "text/plain": [
              "array([[143,  30],\n",
              "       [ 12,  89]])"
            ]
          },
          "metadata": {
            "tags": []
          },
          "execution_count": 112
        }
      ]
    },
    {
      "cell_type": "code",
      "metadata": {
        "id": "QkVOSIWMAnqZ",
        "colab_type": "code",
        "outputId": "82601777-4aba-49c1-8f99-dbadb6771cf7",
        "colab": {
          "base_uri": "https://localhost:8080/",
          "height": 34
        }
      },
      "source": [
        "lb.classes_"
      ],
      "execution_count": 0,
      "outputs": [
        {
          "output_type": "execute_result",
          "data": {
            "text/plain": [
              "array(['not_stressed', 'stressed'], dtype=object)"
            ]
          },
          "metadata": {
            "tags": []
          },
          "execution_count": 113
        }
      ]
    },
    {
      "cell_type": "code",
      "metadata": {
        "id": "yNz_7vY498Ls",
        "colab_type": "code",
        "outputId": "1ffb9e55-f1a2-4a3f-fed8-b824dcc67ea2",
        "colab": {
          "base_uri": "https://localhost:8080/",
          "height": 433
        }
      },
      "source": [
        "import seaborn as sn\n",
        "import pandas as pd\n",
        "import matplotlib.pyplot as plt\n",
        "\n",
        "array = confusion_matrix(ya, yy)\n",
        "#print(array)\n",
        "\n",
        "listik = ['not_stressed', 'stressed']\n",
        "\n",
        "df_cm = pd.DataFrame(array, index = [i for i in listik],\n",
        "                  columns = [i for i in listik])\n",
        "plt.figure(figsize = (10,7))\n",
        "\n",
        "sn.heatmap(df_cm, annot=True, fmt='g')\n",
        "plt.show()"
      ],
      "execution_count": 0,
      "outputs": [
        {
          "output_type": "display_data",
          "data": {
            "image/png": "[encoded data removed]",
            "text/plain": [
              "<Figure size 720x504 with 2 Axes>"
            ]
          },
          "metadata": {
            "tags": []
          }
        }
      ]
    }
  ]
}