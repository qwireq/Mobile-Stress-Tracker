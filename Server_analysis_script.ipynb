{
  "nbformat": 4,
  "nbformat_minor": 0,
  "metadata": {
    "colab": {
      "name": "Server_analysis_script.ipynb",
      "version": "0.3.2",
      "provenance": [],
      "collapsed_sections": []
    },
    "kernelspec": {
      "name": "python3",
      "display_name": "Python 3"
    },
    "accelerator": "GPU"
  },
  "cells": [
    {
      "cell_type": "code",
      "metadata": {
        "id": "NMytbRxauelb",
        "colab_type": "code",
        "colab": {}
      },
      "source": [
        "!pip install numpy\n",
        "!pip install pandas\n",
        "!pip install matplotlib\n",
        "!pip install tensorflow\n",
        "!pip install librosa\n",
        "!pip install keras\n",
        "\n",
        "import librosa\n",
        "import librosa.display\n",
        "import numpy as np\n",
        "import matplotlib.pyplot as plt\n",
        "import tensorflow as tf\n",
        "from matplotlib.pyplot import specgram\n",
        "import keras\n",
        "\n",
        "#from tensorflow.keras.callbacks import ModelCheckpoint, TensorBoard\n",
        "#from tensorflow.keras.models import Sequential\n",
        "#from tensorflow.keras.layers import LSTM, Activation, Dense,  Embedding\n",
        "\n",
        "from keras.preprocessing import sequence\n",
        "from keras.models import Sequential\n",
        "from keras.layers import Dense, Embedding, Activation\n",
        "from keras.layers import LSTM\n",
        "from keras.preprocessing.text import Tokenizer\n",
        "from keras.preprocessing.sequence import pad_sequences\n",
        "from keras.utils import to_categorical\n",
        "from keras.layers import Input, Flatten, Dropout#, Activation\n",
        "from keras.layers import Conv1D, MaxPooling1D, AveragePooling1D\n",
        "from keras.models import Model\n",
        "from keras.callbacks import ModelCheckpoint\n",
        "from sklearn.metrics import confusion_matrix\n",
        "\n",
        "from keras import regularizers\n",
        "import os\n",
        "import pandas as pd\n",
        "from google.colab import drive\n"
      ],
      "execution_count": 0,
      "outputs": []
    },
    {
      "cell_type": "code",
      "metadata": {
        "id": "SWVAmv08U4nn",
        "colab_type": "code",
        "outputId": "37477efe-30ea-48cc-d45d-901aad6d61f7",
        "colab": {
          "base_uri": "https://localhost:8080/",
          "height": 121
        }
      },
      "source": [
        "drive.mount('/content/drive')"
      ],
      "execution_count": 0,
      "outputs": [
        {
          "output_type": "stream",
          "text": [
            "Go to this URL in a browser: https://accounts.google.com/o/oauth2/auth?client_id=947318989803-6bn6qk8qdgf4n4g3pfee6491hc0brc4i.apps.googleusercontent.com&redirect_uri=urn%3Aietf%3Awg%3Aoauth%3A2.0%3Aoob&scope=email%20https%3A%2F%2Fwww.googleapis.com%2Fauth%2Fdocs.test%20https%3A%2F%2Fwww.googleapis.com%2Fauth%2Fdrive%20https%3A%2F%2Fwww.googleapis.com%2Fauth%2Fdrive.photos.readonly%20https%3A%2F%2Fwww.googleapis.com%2Fauth%2Fpeopleapi.readonly&response_type=code\n",
            "\n",
            "Enter your authorization code:\n",
            "··········\n",
            "Mounted at /content/drive\n"
          ],
          "name": "stdout"
        }
      ]
    },
    {
      "cell_type": "code",
      "metadata": {
        "id": "8LJhEVX5U0Df",
        "colab_type": "code",
        "colab": {}
      },
      "source": [
        "def extract_feature(file_name, offst=0.1):\n",
        "\tX, sample_rate = librosa.load(\n",
        "\t\tfile_name, res_type='kaiser_fast', offset=offst)\n",
        "\tmfccs = np.mean(librosa.feature.mfcc(\n",
        "\t\ty=X, sr=sample_rate, n_mfcc=64).T, axis=0)\n",
        "\treturn mfccs"
      ],
      "execution_count": 0,
      "outputs": []
    },
    {
      "cell_type": "code",
      "metadata": {
        "id": "YRaCAXk4hZBv",
        "colab_type": "code",
        "colab": {}
      },
      "source": [
        "def getPrediction(eng_stress_model, livecnn):\n",
        "    #predict!\n",
        "    livepreds = eng_stress_model.predict(livecnn, \n",
        "                             batch_size=32, \n",
        "                             verbose=1)\n",
        "\n",
        "    #convert prediction to text\n",
        "    livepreds1 = livepreds.argmax(axis=1)\n",
        "    liveabc = livepreds1.astype(int).flatten()\n",
        "    conv = ['female_not_stressed', 'female_stressed', 'male_not_stressed',\n",
        "           'male_stressed']\n",
        "\n",
        "    #array for conversion into binary class (stressed/not_stressed)\n",
        "    conv2 = ['not_stressed', 'stressed', 'not_stressed', 'stressed']\n",
        "\n",
        "    #prediction with 4 classes\n",
        "    livepredictions4 = conv[liveabc[0]]\n",
        "    #prediction with 2 classes\n",
        "    livepredictions2 = conv2[liveabc[0]]\n",
        "    \n",
        "    return livepredictions2"
      ],
      "execution_count": 0,
      "outputs": []
    },
    {
      "cell_type": "code",
      "metadata": {
        "id": "p5CSe_SqU0Mx",
        "colab_type": "code",
        "colab": {}
      },
      "source": [
        "mfccs = extract_feature(\n",
        "\t'drive/My Drive/Colab Notebooks/saved_models/Examples/Angry_female.wav', 0)\n",
        "\n",
        "live = pd.DataFrame(data=mfccs)\n",
        "live = live.stack().to_frame().T\n",
        "\n",
        "livecnn = np.expand_dims(live, axis=2)"
      ],
      "execution_count": 0,
      "outputs": []
    },
    {
      "cell_type": "code",
      "metadata": {
        "id": "-7Pi2EfmVSI5",
        "colab_type": "code",
        "colab": {}
      },
      "source": [
        "path_to_users_model_folder = 'drive/My Drive/Colab Notebooks/saved_models/model#userID'\n",
        "path_to_def_model_folder = 'drive/My Drive/Colab Notebooks/saved_models/MFCC64_ENG'"
      ],
      "execution_count": 0,
      "outputs": []
    },
    {
      "cell_type": "code",
      "metadata": {
        "id": "6gL-GclBU0QD",
        "colab_type": "code",
        "outputId": "5798edb4-4851-4964-936d-ee202ea8f7bf",
        "colab": {
          "base_uri": "https://localhost:8080/",
          "height": 34
        }
      },
      "source": [
        "if os.path.isdir(path_to_users_model_folder):\n",
        "    print(\"exists\")\n",
        "    model_path = path_to_users_model_folder + '/' + 'userID_Stress_recog_64MFCC_with_gender.json'\n",
        "    weights_path = path_to_users_model_folder + '/' + 'userID_Stress_recog_64MFCC_with_gender.h5'\n",
        "else:\n",
        "    print(\"not exists\")\n",
        "    model_path = path_to_def_model_folder + '/' + 'Stress_recog_64MFCC_with_gender.json'\n",
        "    weights_path = path_to_def_model_folder + '/' + 'Stress_recog_64MFCC_with_gender.h5'"
      ],
      "execution_count": 0,
      "outputs": [
        {
          "output_type": "stream",
          "text": [
            "not exists\n"
          ],
          "name": "stdout"
        }
      ]
    },
    {
      "cell_type": "code",
      "metadata": {
        "id": "KI3Hjd5DU0S9",
        "colab_type": "code",
        "outputId": "50a85dab-3338-4be4-f3a3-3647ab375408",
        "colab": {
          "base_uri": "https://localhost:8080/",
          "height": 154
        }
      },
      "source": [
        "# loading json and creating model with 4 classes\n",
        "from keras.models import model_from_json\n",
        "json_file5 = open(model_path, 'r')\n",
        "eng2 = json_file5.read()\n",
        "json_file5.close()\n",
        "eng_stress_model = model_from_json(eng2)\n",
        "\n",
        "# load weights into new model\n",
        "eng_stress_model.load_weights(weights_path)\n",
        "print(\"Loaded model from disk\")"
      ],
      "execution_count": 0,
      "outputs": [
        {
          "output_type": "stream",
          "text": [
            "WARNING:tensorflow:From /usr/local/lib/python3.6/dist-packages/tensorflow/python/framework/op_def_library.py:263: colocate_with (from tensorflow.python.framework.ops) is deprecated and will be removed in a future version.\n",
            "Instructions for updating:\n",
            "Colocations handled automatically by placer.\n",
            "WARNING:tensorflow:From /usr/local/lib/python3.6/dist-packages/keras/backend/tensorflow_backend.py:3445: calling dropout (from tensorflow.python.ops.nn_ops) with keep_prob is deprecated and will be removed in a future version.\n",
            "Instructions for updating:\n",
            "Please use `rate` instead of `keep_prob`. Rate should be set to `rate = 1 - keep_prob`.\n",
            "Loaded model from disk\n"
          ],
          "name": "stdout"
        }
      ]
    },
    {
      "cell_type": "code",
      "metadata": {
        "id": "7BXjlIeyU0Vw",
        "colab_type": "code",
        "outputId": "7e61bb8b-14f1-4843-b6d3-a5f03b238c20",
        "colab": {
          "base_uri": "https://localhost:8080/",
          "height": 50
        }
      },
      "source": [
        "#compile the model\n",
        "opt = keras.optimizers.rmsprop(lr=0.00001, decay=1e-6)\n",
        "eng_stress_model.compile(loss='categorical_crossentropy', optimizer=opt, metrics=['accuracy'])\n",
        "\n",
        "livepredictions2 = getPrediction(eng_stress_model, livecnn)\n",
        "\n",
        "print(livepredictions2)"
      ],
      "execution_count": 0,
      "outputs": [
        {
          "output_type": "stream",
          "text": [
            "\r1/1 [==============================] - 0s 216ms/step\n",
            "stressed\n"
          ],
          "name": "stdout"
        }
      ]
    },
    {
      "cell_type": "code",
      "metadata": {
        "id": "OUb0h4RpU0Yj",
        "colab_type": "code",
        "outputId": "6e147a16-1abc-4c67-e41e-ad4589a1cbfc",
        "colab": {
          "base_uri": "https://localhost:8080/",
          "height": 50
        }
      },
      "source": [
        "# feedback and user_male are info that is taken from the user!!!!!!!!!!!!!!!!\n",
        "feedback =  #'stressed'\n",
        "user_male =  #True\n",
        "epNum = 0\n",
        "while(True):\n",
        "  if feedback != livepredictions2:\n",
        "      if user_male == True:\n",
        "          it = (liveabc[0] + 1) % 2 + 2\n",
        "      else:\n",
        "          it = (liveabc[0] + 1) % 2\n",
        "      \n",
        "      for layer in eng_stress_model.layers[:16]:\n",
        "          layer.trainable=False\n",
        "      for layer in eng_stress_model.layers[16:]:\n",
        "          layer.trainable=True\n",
        "      \n",
        "      eng_stress_model.compile(loss='categorical_crossentropy', optimizer=opt, metrics=['accuracy'])\n",
        "\n",
        "      y_train = np.zeros((1, 4))\n",
        "      y_train[0][it] = 1\n",
        "      \n",
        "      eng_stress_model.fit(livecnn, y_train, batch_size=32, epochs=1, validation_data=(livecnn, y_train))\n",
        "      \n",
        "      livepredictions2 = getPrediction(eng_stress_model, livecnn)\n",
        "      epNum += 1\n",
        "\n",
        "  else:\n",
        "      break\n",
        "  print(epNum)\n",
        "if epNum > 0:\n",
        "  user_model_path = path_to_users_model_folder + '/' + 'userID_Stress_recog_64MFCC_with_gender.json'\n",
        "  user_weights_path = path_to_users_model_folder + '/' + 'userID_Stress_recog_64MFCC_with_gender.h5'\n",
        "  \n",
        "  model_name = 'userID_Stress_recog_64MFCC_with_gender.h5'\n",
        "  save_dir = path_to_users_model_folder\n",
        "  # Save model and weights\n",
        "  if not os.path.isdir(save_dir):\n",
        "      os.makedirs(save_dir)\n",
        "  model_path = os.path.join(save_dir, model_name)\n",
        "  eng_stress_model.save(model_path)\n",
        "  print('Saved trained model at %s ' % model_path)\n",
        "  \n",
        "  import json\n",
        "  model_json = eng_stress_model.to_json()\n",
        "  with open(user_model_path, \"w\") as json_file:\n",
        "      json_file.write(model_json)\n",
        "\n"
      ],
      "execution_count": 0,
      "outputs": [
        {
          "output_type": "stream",
          "text": [
            "VSE\n",
            "Saved trained model at drive/My Drive/Colab Notebooks/saved_models/model#userID/userID_Stress_recog_64MFCC_with_gender.h5 \n"
          ],
          "name": "stdout"
        }
      ]
    },
    {
      "cell_type": "code",
      "metadata": {
        "id": "a9IcQvaKco0y",
        "colab_type": "code",
        "outputId": "18ac3066-8d91-40a9-b85c-5ae1bf56144d",
        "colab": {
          "base_uri": "https://localhost:8080/",
          "height": 34
        }
      },
      "source": [
        "model_name = 'userID_Stress_recog_64MFCC_with_gender.h5'\n",
        "save_dir = path_to_users_model_folder\n",
        "# Save model and weights\n",
        "if not os.path.isdir(save_dir):\n",
        "    os.makedirs(save_dir)\n",
        "model_path = os.path.join(save_dir, model_name)\n",
        "eng_stress_model.save(model_path)\n",
        "print('Saved trained model at %s ' % model_path)"
      ],
      "execution_count": 0,
      "outputs": [
        {
          "output_type": "stream",
          "text": [
            "Saved trained model at drive/My Drive/Colab Notebooks/saved_models/Stress_recog_MFCC_with_gender.h5 \n"
          ],
          "name": "stdout"
        }
      ]
    },
    {
      "cell_type": "code",
      "metadata": {
        "id": "JuvyPQQActNd",
        "colab_type": "code",
        "colab": {}
      },
      "source": [
        "import json\n",
        "model_json = model.to_json()\n",
        "with open(\"drive/My Drive/Colab Notebooks/saved_models/Stress_recog_MFCC_with_gender.json\", \"w\") as json_file:\n",
        "    json_file.write(model_json)"
      ],
      "execution_count": 0,
      "outputs": []
    },
    {
      "cell_type": "code",
      "metadata": {
        "id": "CrICLy3QdpSm",
        "colab_type": "code",
        "colab": {}
      },
      "source": [
        "for i,layer in enumerate(eng_stress_model.layers):\n",
        "  print(i,layer.name)"
      ],
      "execution_count": 0,
      "outputs": []
    },
    {
      "cell_type": "code",
      "metadata": {
        "id": "UHSaoXtZe7Bi",
        "colab_type": "code",
        "colab": {}
      },
      "source": [
        "for layer in eng_stress_model.layers[:16]:\n",
        "    layer.trainable=False\n",
        "for layer in eng_stress_model.layers[16:]:\n",
        "    layer.trainable=True"
      ],
      "execution_count": 0,
      "outputs": []
    },
    {
      "cell_type": "code",
      "metadata": {
        "id": "d1zmveRRfbFc",
        "colab_type": "code",
        "colab": {}
      },
      "source": [
        "for i,layer in enumerate(eng_stress_model.layers):\n",
        "    print(i,layer.trainable)"
      ],
      "execution_count": 0,
      "outputs": []
    },
    {
      "cell_type": "code",
      "metadata": {
        "id": "0zmpNz-Tf3Bk",
        "colab_type": "code",
        "colab": {}
      },
      "source": [
        "eng_stress_model.compile(loss='categorical_crossentropy', optimizer=opt, metrics=['accuracy'])\n",
        "\n",
        "y_train = np.zeros((1, 4))\n",
        "y_train[it] = 1\n",
        "\n",
        "\n",
        "eng_stress_model.fit(livecnn, y_train, batch_size=32, epochs=1, validation_data=(livecnn, y_train))"
      ],
      "execution_count": 0,
      "outputs": []
    },
    {
      "cell_type": "code",
      "metadata": {
        "id": "KAawBqptNwAJ",
        "colab_type": "code",
        "colab": {}
      },
      "source": [
        "def extract_feature(file_name, offst=0.5):\n",
        "    X, sample_rate = librosa.load(file_name, res_type='kaiser_fast', offset=offst)\n",
        "    stft = np.abs(librosa.stft(X))\n",
        "    mfccs = np.mean(librosa.feature.mfcc(y=X, sr=sample_rate, n_mfcc=40).T,axis=0)\n",
        "    chroma = np.mean(librosa.feature.chroma_stft(S=stft, sr=sample_rate).T,axis=0)\n",
        "    mel = np.mean(librosa.feature.melspectrogram(X, sr=sample_rate).T,axis=0)\n",
        "    contrast = np.mean(librosa.feature.spectral_contrast(S=stft, sr=sample_rate).T,axis=0)\n",
        "    tonnetz = np.mean(librosa.feature.tonnetz(y=librosa.effects.harmonic(X), sr=sample_rate).T,axis=0)\n",
        "    return mfccs,chroma,mel,contrast,tonnetz\n",
        "\n",
        "  def extract_feature_lite(file_name):\n",
        "    X, sample_rate = librosa.load(file_name, res_type='kaiser_fast', sr=None)\n",
        "    mfccs = np.mean(librosa.feature.mfcc(y=X, sr=sample_rate, n_mfcc=30).T, axis=0)\n",
        "    \n",
        "    return mfccs"
      ],
      "execution_count": 0,
      "outputs": []
    },
    {
      "cell_type": "code",
      "metadata": {
        "id": "tCbsGmmrNySK",
        "colab_type": "code",
        "colab": {}
      },
      "source": [
        "\n",
        "mfccs = #array of input features. dimensions: 1x64!!!!\n",
        "\n",
        "live = pd.DataFrame(data=mfccs)\n",
        "live = live.stack().to_frame().T\n",
        "\n"
      ],
      "execution_count": 0,
      "outputs": []
    },
    {
      "cell_type": "code",
      "metadata": {
        "id": "j_chvhobO0yY",
        "colab_type": "code",
        "colab": {}
      },
      "source": [
        "livecnn = np.expand_dims(live, axis=2)"
      ],
      "execution_count": 0,
      "outputs": []
    },
    {
      "cell_type": "code",
      "metadata": {
        "id": "Y0B17w8yMhCC",
        "colab_type": "code",
        "outputId": "7817868d-b92b-4c92-d1ef-2118e09eab67",
        "colab": {
          "base_uri": "https://localhost:8080/",
          "height": 34
        }
      },
      "source": [
        "# loading json and creating model with 4 classes\n",
        "from keras.models import model_from_json\n",
        "\n",
        "json_file5 = open('drive/My Drive/Colab Notebooks/saved_models/Stress_recog_MFCC_with_gender.json', 'r')\n",
        "\n",
        "eng2 = json_file5.read()\n",
        "json_file5.close()\n",
        "\n",
        "eng_stress_model = model_from_json(eng2)\n",
        "\n",
        "# load weights into new model\n",
        "eng_stress_model.load_weights(\"drive/My Drive/Colab Notebooks/saved_models/Stress_recog_MFCC_with_gender.h5\")\n",
        "print(\"Loaded model from disk\")"
      ],
      "execution_count": 0,
      "outputs": [
        {
          "output_type": "stream",
          "text": [
            "Loaded model from disk\n"
          ],
          "name": "stdout"
        }
      ]
    },
    {
      "cell_type": "code",
      "metadata": {
        "id": "9ohVOH6eO40g",
        "colab_type": "code",
        "outputId": "7a6d2a14-afc8-4f92-f600-3d8032fb1869",
        "colab": {
          "base_uri": "https://localhost:8080/",
          "height": 34
        }
      },
      "source": [
        "opt = keras.optimizers.rmsprop(lr=0.00001, decay=1e-6)\n",
        "eng_stress_model.compile(loss='categorical_crossentropy', optimizer=opt, metrics=['accuracy'])\n",
        "livepreds = eng_stress_model.predict(livecnn, \n",
        "                         batch_size=32, \n",
        "                         verbose=1)"
      ],
      "execution_count": 0,
      "outputs": [
        {
          "output_type": "stream",
          "text": [
            "\r1/1 [==============================] - 0s 138ms/step\n"
          ],
          "name": "stdout"
        }
      ]
    },
    {
      "cell_type": "code",
      "metadata": {
        "id": "dFO4QSeVPArD",
        "colab_type": "code",
        "outputId": "be2c42b5-3557-4885-ae7c-50494e42adf9",
        "colab": {
          "base_uri": "https://localhost:8080/",
          "height": 34
        }
      },
      "source": [
        "livepreds1 = livepreds.argmax(axis=1)\n",
        "liveabc = livepreds1.astype(int).flatten()\n",
        "conv = ['female_not_stressed', 'female_stressed', 'male_not_stressed',\n",
        "       'male_stressed']\n",
        "\n",
        "#array for conversion into binary class (stressed/not_stressed)\n",
        "conv2 = ['not_stressed', 'stressed', 'not_stressed', 'stressed']\n",
        "\n",
        "livepredictions = conv[liveabc[0]]\n",
        "print(livepredictions)"
      ],
      "execution_count": 0,
      "outputs": [
        {
          "output_type": "stream",
          "text": [
            "female_stressed\n"
          ],
          "name": "stdout"
        }
      ]
    },
    {
      "cell_type": "code",
      "metadata": {
        "id": "P9Ub57Zs2aWG",
        "colab_type": "code",
        "colab": {}
      },
      "source": [
        "import pandas as pd\n",
        "df_reader = pd.read_table(\"drive/My Drive/Colab Notebooks/Features/ENG8_STRESS_MFCC_GENDER.csv\", sep='\\t', encoding='utf-8')\n",
        "file_df = pd.DataFrame(df_reader)\n",
        "file_df = file_df.drop('Unnamed: 0', axis = 1)"
      ],
      "execution_count": 0,
      "outputs": []
    },
    {
      "cell_type": "code",
      "metadata": {
        "id": "n7t5Il6kZD6L",
        "colab_type": "code",
        "outputId": "572c0923-6fee-4e97-89da-18d12f2b9463",
        "colab": {
          "base_uri": "https://localhost:8080/",
          "height": 34
        }
      },
      "source": [
        "newdf1 = np.random.rand(len(file_df)) > 0.2\n",
        "\n",
        "train = file_df[newdf1]\n",
        "test = file_df[~newdf1]\n",
        "\n",
        "print(len(train), len(test))"
      ],
      "execution_count": 0,
      "outputs": [
        {
          "output_type": "stream",
          "text": [
            "1161 279\n"
          ],
          "name": "stdout"
        }
      ]
    },
    {
      "cell_type": "code",
      "metadata": {
        "id": "_EEBYs6SZD6N",
        "colab_type": "code",
        "colab": {}
      },
      "source": [
        "trainfeatures = train.iloc[:, :-1]\n",
        "trainlabel = train.iloc[:, -1:]\n",
        "\n",
        "testfeatures = test.iloc[:, :-1]\n",
        "testlabel = test.iloc[:, -1:]"
      ],
      "execution_count": 0,
      "outputs": []
    },
    {
      "cell_type": "code",
      "metadata": {
        "id": "ew5ZSJIfEgzl",
        "colab_type": "code",
        "outputId": "5a9dcdba-712f-4305-ecc4-7f972af52956",
        "colab": {
          "base_uri": "https://localhost:8080/",
          "height": 34
        }
      },
      "source": [
        "print(trainlabel.shape, testlabel.shape)"
      ],
      "execution_count": 0,
      "outputs": [
        {
          "output_type": "stream",
          "text": [
            "(1161, 1) (279, 1)\n"
          ],
          "name": "stdout"
        }
      ]
    },
    {
      "cell_type": "code",
      "metadata": {
        "id": "GYozCs2qZD6w",
        "colab_type": "code",
        "outputId": "6ed9925f-a7e5-41d1-cd72-8b4c237f63ab",
        "colab": {
          "base_uri": "https://localhost:8080/",
          "height": 34
        }
      },
      "source": [
        "opt = keras.optimizers.rmsprop(lr=0.00001, decay=1e-6)\n",
        "eng_stress_model.compile(loss='categorical_crossentropy', optimizer=opt, metrics=['accuracy'])\n",
        "score = eng_stress_model.evaluate(x_testcnn, y_test, verbose=0)\n",
        "print(\"%s: %.2f%%\" % (eng_stress_model.metrics_names[1], score[1]*100))"
      ],
      "execution_count": 0,
      "outputs": [
        {
          "output_type": "stream",
          "text": [
            "acc: 97.85%\n"
          ],
          "name": "stdout"
        }
      ]
    },
    {
      "cell_type": "code",
      "metadata": {
        "colab_type": "code",
        "outputId": "83638616-761c-4477-97f5-00a6660d2b2c",
        "id": "d9r9qoTNrzr5",
        "colab": {
          "base_uri": "https://localhost:8080/",
          "height": 50
        }
      },
      "source": [
        "from keras.utils import np_utils\n",
        "from sklearn.preprocessing import LabelEncoder\n",
        "\n",
        "X_train = np.array(trainfeatures)\n",
        "y_train = np.array(trainlabel)\n",
        "\n",
        "X_test = np.array(testfeatures)\n",
        "y_test = np.array(testlabel)\n",
        "\n",
        "\n",
        "print(X_train.shape)\n",
        "print(X_test.shape)\n",
        "\n",
        "y_train = np.squeeze(y_train, axis=(1,))\n",
        "y_test = np.squeeze(y_test, axis=(1,))"
      ],
      "execution_count": 0,
      "outputs": [
        {
          "output_type": "stream",
          "text": [
            "(1161, 64)\n",
            "(279, 64)\n"
          ],
          "name": "stdout"
        }
      ]
    },
    {
      "cell_type": "code",
      "metadata": {
        "id": "LzeRLZqsQLvo",
        "colab_type": "code",
        "outputId": "290c9fb3-29bb-4720-adf4-f81945f084de",
        "colab": {
          "base_uri": "https://localhost:8080/",
          "height": 118
        }
      },
      "source": [
        "trainfeatures.columns.values"
      ],
      "execution_count": 0,
      "outputs": [
        {
          "output_type": "execute_result",
          "data": {
            "text/plain": [
              "array(['0', '1', '2', '3', '4', '5', '6', '7', '8', '9', '10', '11', '12',\n",
              "       '13', '14', '15', '16', '17', '18', '19', '20', '21', '22', '23',\n",
              "       '24', '25', '26', '27', '28', '29', '30', '31', '32', '33', '34',\n",
              "       '35', '36', '37', '38', '39', '40', '41', '42', '43', '44', '45',\n",
              "       '46', '47', '48', '49', '50', '51', '52', '53', '54', '55', '56',\n",
              "       '57', '58', '59', '60', '61', '62', '63'], dtype=object)"
            ]
          },
          "metadata": {
            "tags": []
          },
          "execution_count": 69
        }
      ]
    },
    {
      "cell_type": "code",
      "metadata": {
        "id": "x0V8jAN1wu2e",
        "colab_type": "code",
        "colab": {}
      },
      "source": [
        "lb = LabelEncoder()\n",
        "y_train = np_utils.to_categorical(lb.fit_transform(y_train))"
      ],
      "execution_count": 0,
      "outputs": []
    },
    {
      "cell_type": "code",
      "metadata": {
        "id": "0eX8zjxWwv13",
        "colab_type": "code",
        "colab": {}
      },
      "source": [
        "y_test = np_utils.to_categorical(lb.fit_transform(y_test))"
      ],
      "execution_count": 0,
      "outputs": []
    },
    {
      "cell_type": "code",
      "metadata": {
        "id": "04f1Eg7vSNPG",
        "colab_type": "code",
        "outputId": "ca24f700-2e1c-48da-ce48-bd516355b006",
        "colab": {
          "base_uri": "https://localhost:8080/",
          "height": 168
        }
      },
      "source": [
        "print(y_train.shape)\n",
        "print(y_test.shape)\n",
        "print(y_train)"
      ],
      "execution_count": 0,
      "outputs": [
        {
          "output_type": "stream",
          "text": [
            "(1161, 4)\n",
            "(279, 4)\n",
            "[[1. 0. 0. 0.]\n",
            " [0. 1. 0. 0.]\n",
            " [0. 0. 1. 0.]\n",
            " ...\n",
            " [0. 0. 0. 1.]\n",
            " [0. 1. 0. 0.]\n",
            " [0. 0. 1. 0.]]\n"
          ],
          "name": "stdout"
        }
      ]
    },
    {
      "cell_type": "code",
      "metadata": {
        "id": "oz0fC-LjRkUY",
        "colab_type": "code",
        "colab": {}
      },
      "source": [
        "np.save('drive/My Drive/Colab Notebooks/saved_models/4class_stress_with_gender_classes.npy', lb.classes_)"
      ],
      "execution_count": 0,
      "outputs": []
    },
    {
      "cell_type": "code",
      "metadata": {
        "colab_type": "code",
        "outputId": "95538b15-d354-4aab-ccbd-bc9097c81f45",
        "id": "RpJ_V_torzsQ",
        "colab": {
          "base_uri": "https://localhost:8080/",
          "height": 34
        }
      },
      "source": [
        "x_traincnn =np.expand_dims(X_train, axis=2)\n",
        "x_testcnn= np.expand_dims(X_test, axis=2)\n",
        "print(x_testcnn.shape)"
      ],
      "execution_count": 0,
      "outputs": [
        {
          "output_type": "stream",
          "text": [
            "(279, 64, 1)\n"
          ],
          "name": "stdout"
        }
      ]
    },
    {
      "cell_type": "code",
      "metadata": {
        "id": "DU5ER5yBPRBS",
        "colab_type": "code",
        "outputId": "e93ac3ca-f980-4601-b07d-38508c6c09ea",
        "colab": {
          "base_uri": "https://localhost:8080/",
          "height": 50
        }
      },
      "source": [
        "lb.classes_"
      ],
      "execution_count": 0,
      "outputs": [
        {
          "output_type": "execute_result",
          "data": {
            "text/plain": [
              "array(['female_not_stressed', 'female_stressed', 'male_not_stressed',\n",
              "       'male_stressed'], dtype=object)"
            ]
          },
          "metadata": {
            "tags": []
          },
          "execution_count": 34
        }
      ]
    }
  ]
}